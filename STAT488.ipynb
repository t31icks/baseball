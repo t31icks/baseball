{
 "cells": [
  {
   "cell_type": "markdown",
   "id": "803f0c85-bfcf-4921-a3d8-79488e0b59cd",
   "metadata": {},
   "source": [
    "# STAT488 Independent Project - An analysis of baseball data"
   ]
  },
  {
   "cell_type": "code",
   "execution_count": null,
   "id": "f72a66a0-a921-4bd4-84dd-cc0a49c01ed0",
   "metadata": {},
   "outputs": [],
   "source": [
    "import pandas as pd\n",
    "import numpy as np\n",
    "import math as m\n",
    "import statistics as stat\n",
    "from scipy import stats as test"
   ]
  },
  {
   "cell_type": "markdown",
   "id": "025775ec-7928-41fc-b81c-50efe4c52533",
   "metadata": {},
   "source": [
    "# Project 1: Age of Prime Year vs. Weight"
   ]
  },
  {
   "cell_type": "code",
   "execution_count": 195,
   "id": "9c90be90-58c1-4f32-9013-e56f35cd9e35",
   "metadata": {},
   "outputs": [
    {
     "name": "stdout",
     "output_type": "stream",
     "text": [
      "<class 'pandas.core.frame.DataFrame'>\n",
      "Int64Index: 2489 entries, 0 to 3193\n",
      "Data columns (total 6 columns):\n",
      " #   Column       Non-Null Count  Dtype  \n",
      "---  ------       --------------  -----  \n",
      " 0   last_name    2489 non-null   object \n",
      " 1    first_name  2489 non-null   object \n",
      " 2   player_id    2489 non-null   float64\n",
      " 3   year         2489 non-null   int64  \n",
      " 4   player_age   2489 non-null   int64  \n",
      " 5   xwoba        2489 non-null   float64\n",
      "dtypes: float64(2), int64(2), object(2)\n",
      "memory usage: 136.1+ KB\n"
     ]
    },
    {
     "data": {
      "text/html": [
       "<div>\n",
       "<style scoped>\n",
       "    .dataframe tbody tr th:only-of-type {\n",
       "        vertical-align: middle;\n",
       "    }\n",
       "\n",
       "    .dataframe tbody tr th {\n",
       "        vertical-align: top;\n",
       "    }\n",
       "\n",
       "    .dataframe thead th {\n",
       "        text-align: right;\n",
       "    }\n",
       "</style>\n",
       "<table border=\"1\" class=\"dataframe\">\n",
       "  <thead>\n",
       "    <tr style=\"text-align: right;\">\n",
       "      <th></th>\n",
       "      <th>last_name</th>\n",
       "      <th>first_name</th>\n",
       "      <th>player_id</th>\n",
       "      <th>year</th>\n",
       "      <th>player_age</th>\n",
       "      <th>xwoba</th>\n",
       "    </tr>\n",
       "  </thead>\n",
       "  <tbody>\n",
       "    <tr>\n",
       "      <th>734</th>\n",
       "      <td>Martin</td>\n",
       "      <td>Russell</td>\n",
       "      <td>431145.0</td>\n",
       "      <td>2017</td>\n",
       "      <td>34</td>\n",
       "      <td>0.339</td>\n",
       "    </tr>\n",
       "    <tr>\n",
       "      <th>1150</th>\n",
       "      <td>Escobar</td>\n",
       "      <td>Eduardo</td>\n",
       "      <td>500871.0</td>\n",
       "      <td>2018</td>\n",
       "      <td>29</td>\n",
       "      <td>0.323</td>\n",
       "    </tr>\n",
       "    <tr>\n",
       "      <th>161</th>\n",
       "      <td>Ward</td>\n",
       "      <td>Taylor</td>\n",
       "      <td>621493.0</td>\n",
       "      <td>2022</td>\n",
       "      <td>28</td>\n",
       "      <td>0.361</td>\n",
       "    </tr>\n",
       "    <tr>\n",
       "      <th>2697</th>\n",
       "      <td>Dietrich</td>\n",
       "      <td>Derek</td>\n",
       "      <td>518618.0</td>\n",
       "      <td>2015</td>\n",
       "      <td>25</td>\n",
       "      <td>0.332</td>\n",
       "    </tr>\n",
       "    <tr>\n",
       "      <th>191</th>\n",
       "      <td>Garver</td>\n",
       "      <td>Mitch</td>\n",
       "      <td>641598.0</td>\n",
       "      <td>2022</td>\n",
       "      <td>31</td>\n",
       "      <td>0.319</td>\n",
       "    </tr>\n",
       "    <tr>\n",
       "      <th>1384</th>\n",
       "      <td>Dozier</td>\n",
       "      <td>Hunter</td>\n",
       "      <td>641531.0</td>\n",
       "      <td>2018</td>\n",
       "      <td>26</td>\n",
       "      <td>0.304</td>\n",
       "    </tr>\n",
       "    <tr>\n",
       "      <th>786</th>\n",
       "      <td>Upton</td>\n",
       "      <td>Justin</td>\n",
       "      <td>457708.0</td>\n",
       "      <td>2017</td>\n",
       "      <td>29</td>\n",
       "      <td>0.361</td>\n",
       "    </tr>\n",
       "    <tr>\n",
       "      <th>213</th>\n",
       "      <td>Schwindel</td>\n",
       "      <td>Frank</td>\n",
       "      <td>643524.0</td>\n",
       "      <td>2022</td>\n",
       "      <td>30</td>\n",
       "      <td>0.278</td>\n",
       "    </tr>\n",
       "    <tr>\n",
       "      <th>2510</th>\n",
       "      <td>Victorino</td>\n",
       "      <td>Shane</td>\n",
       "      <td>425664.0</td>\n",
       "      <td>2015</td>\n",
       "      <td>34</td>\n",
       "      <td>0.275</td>\n",
       "    </tr>\n",
       "    <tr>\n",
       "      <th>495</th>\n",
       "      <td>Carter</td>\n",
       "      <td>Chris</td>\n",
       "      <td>474892.0</td>\n",
       "      <td>2016</td>\n",
       "      <td>29</td>\n",
       "      <td>0.368</td>\n",
       "    </tr>\n",
       "  </tbody>\n",
       "</table>\n",
       "</div>"
      ],
      "text/plain": [
       "      last_name  first_name  player_id  year  player_age  xwoba\n",
       "734      Martin     Russell   431145.0  2017          34  0.339\n",
       "1150    Escobar     Eduardo   500871.0  2018          29  0.323\n",
       "161        Ward      Taylor   621493.0  2022          28  0.361\n",
       "2697   Dietrich       Derek   518618.0  2015          25  0.332\n",
       "191      Garver       Mitch   641598.0  2022          31  0.319\n",
       "1384     Dozier      Hunter   641531.0  2018          26  0.304\n",
       "786       Upton      Justin   457708.0  2017          29  0.361\n",
       "213   Schwindel       Frank   643524.0  2022          30  0.278\n",
       "2510  Victorino       Shane   425664.0  2015          34  0.275\n",
       "495      Carter       Chris   474892.0  2016          29  0.368"
      ]
     },
     "execution_count": 195,
     "metadata": {},
     "output_type": "execute_result"
    }
   ],
   "source": [
    "# Is there a correlation between age, size/weight, and on field performance?\n",
    "# Hypothesis: Players that weigh more tend to have a prime later than the average age to have your prime season.\n",
    "\n",
    "# Developing sample set of players who have 250 PA or more in at lease 5 seasons dating back to 2015\n",
    "\n",
    "# Starting with a table taken from https://baseballsavant.mlb.com/\n",
    "playerData = pd.DataFrame(pd.read_csv(\"C:/Users/tmeli/OneDrive/Documents/CLASSES/Fall 2022/STAT488/playerAgePerformanceData.csv\"))\n",
    "playerData = playerData.dropna()\n",
    "playerData.info()\n",
    "playerData.describe()\n",
    "playerData.sample(n = 10)"
   ]
  },
  {
   "cell_type": "code",
   "execution_count": 196,
   "id": "8d392f7c-4a04-4828-b533-a8cf8cb5a265",
   "metadata": {},
   "outputs": [
    {
     "name": "stdout",
     "output_type": "stream",
     "text": [
      "<class 'pandas.core.frame.DataFrame'>\n",
      "Float64Index: 214 entries, 488726.0 to 660162.0\n",
      "Data columns (total 4 columns):\n",
      " #   Column      Non-Null Count  Dtype  \n",
      "---  ------      --------------  -----  \n",
      " 0   year        214 non-null    int64  \n",
      " 1   player_age  214 non-null    int64  \n",
      " 2   xwoba       214 non-null    float64\n",
      " 3   full_name   214 non-null    object \n",
      "dtypes: float64(1), int64(2), object(1)\n",
      "memory usage: 8.4+ KB\n"
     ]
    }
   ],
   "source": [
    "# Form hypothesis test using a sample of players who weigh X lbs\n",
    "\n",
    "#Step 1: Find Primes for every player\n",
    "#Do this by grouping by player, and gathering their age for their prime year by woba\n",
    "\n",
    "# Finding the best season of every player by using their highest xwoba since 2015\n",
    "findPrimeYear = playerData.groupby(['player_id'])['xwoba'].transform('max') == playerData['xwoba']\n",
    "primeYears = playerData.loc[findPrimeYear].drop_duplicates(subset=['player_id']).set_index(['player_id'])\n",
    "\n",
    "# Filter by players that have at least 5 seasons (ideally would use more seasons but data only dates back this far)\n",
    "minYears = 5\n",
    "filterSeasons = playerData.groupby(['player_id']).size()\n",
    "filterSeasons = filterSeasons >= minYears\n",
    "primeYears = primeYears.loc[filterSeasons]\n",
    "\n",
    "# Preparing to merge with Lahman database\n",
    "primeYears[' first_name'] = primeYears[' first_name'].str.replace(\" \", \"\")\n",
    "primeYears['full_name'] = primeYears[' first_name'].str.cat(primeYears['last_name'], sep=' ')\n",
    "primeYears = primeYears.drop(\" first_name\",axis = 1).drop(\"last_name\",axis = 1)\n",
    "primeYears.info()\n",
    "# print(primeYears.loc[547989,\"full_name\"] == \" Jose Abreu\") # SO MUCH TROUBLE SHOOTING JUST TO FIGURE OUT THERES A SPACE IN FRONT OF THE NAMES"
   ]
  },
  {
   "cell_type": "code",
   "execution_count": 197,
   "id": "c5791103-2db8-42c3-8293-f2dfcf1fbe22",
   "metadata": {},
   "outputs": [
    {
     "name": "stdout",
     "output_type": "stream",
     "text": [
      "<class 'pandas.core.frame.DataFrame'>\n",
      "RangeIndex: 2958 entries, 0 to 2957\n",
      "Data columns (total 2 columns):\n",
      " #   Column     Non-Null Count  Dtype \n",
      "---  ------     --------------  ----- \n",
      " 0   weight     2958 non-null   int64 \n",
      " 1   full_name  2958 non-null   object\n",
      "dtypes: int64(1), object(1)\n",
      "memory usage: 46.3+ KB\n",
      "0       David Aardsma\n",
      "1       Fernando Abad\n",
      "2         Cory Abbott\n",
      "3        Albert Abreu\n",
      "4         Bryan Abreu\n",
      "            ...      \n",
      "2953       Barry Zito\n",
      "2954      Ben Zobrist\n",
      "2955      Tyler Zuber\n",
      "2956      Mike Zunino\n",
      "2957        Tony Zych\n",
      "Name: full_name, Length: 2958, dtype: object\n",
      "True\n",
      "Eduard Bazardo\n",
      "28.24271844660194\n"
     ]
    }
   ],
   "source": [
    "# First import data from R\n",
    "weightData = pd.DataFrame(pd.read_csv(\"C:/Users/tmeli/OneDrive/Documents/CLASSES/Fall 2022/STAT488/weightMerge.csv\"))\n",
    "weightData['full_name'] = weightData['nameFirst'].str.cat(weightData['nameLast'], sep=' ')\n",
    "weightData = weightData.drop(\"nameFirst\", axis = 1).drop(\"nameLast\", axis = 1).drop(\"Unnamed: 0\", axis = 1).drop(\"finalGame\", axis = 1)\n",
    "weightData.info()\n",
    "print(weightData.loc[:,\"full_name\"])\n",
    "print(weightData.loc[5,\"full_name\"] == \"Jose Abreu\")\n",
    "print((weightData.loc[200,\"full_name\"]))\n",
    "\n",
    "finalData = primeYears.merge(weightData, on = \"full_name\", how = \"inner\")\n",
    "print(finalData[\"player_age\"].mean())"
   ]
  },
  {
   "cell_type": "code",
   "execution_count": 198,
   "id": "7010d0f8-8ffc-49f0-9bca-2e452c1c933b",
   "metadata": {},
   "outputs": [
    {
     "name": "stdout",
     "output_type": "stream",
     "text": [
      "Testing for players with weights higher than 232.59481346027235\n",
      "     year  player_age  xwoba          full_name  weight\n",
      "0    2022          35  0.373         Jose Abreu     235\n",
      "3    2022          30  0.463        Aaron Judge     282\n",
      "8    2016          36  0.367      Albert Pujols     235\n",
      "9    2016          33  0.449     Miguel Cabrera     267\n",
      "11   2016          33  0.389    Kendrys Morales     242\n",
      "18   2016          28  0.349       Wilson Ramos     241\n",
      "28   2016          25  0.315    Jonathan Villar     233\n",
      "46   2017          31  0.347      Tyler Flowers     260\n",
      "47   2017          31  0.331   Asdrubal Cabrera     235\n",
      "71   2017          31  0.371     Mitch Moreland     245\n",
      "72   2017          27  0.395      Anthony Rizzo     240\n",
      "82   2017          25  0.330    Jonathan Schoop     247\n",
      "97   2017          26  0.359        Yasiel Puig     240\n",
      "98   2017          24  0.398       Rhys Hoskins     245\n",
      "102  2018          28  0.356      Jesus Aguilar     277\n",
      "108  2018          26  0.338    Gregory Polanco     240\n",
      "125  2021          31  0.374     Salvador Perez     255\n",
      "126  2021          30  0.366     Avisail Garcia     250\n",
      "134  2021          30  0.354        Mike Zunino     235\n",
      "145  2021          24  0.394      Rafael Devers     240\n",
      "150  2015          29  0.403        Chris Davis     255\n",
      "158  2015          25  0.411  Giancarlo Stanton     245\n",
      "166  2015          22  0.386        Miguel Sano     272\n",
      "179  2019          29  0.323      Jason Heyward     240\n",
      "187  2019          27  0.460         Mike Trout     235\n",
      "195  2019          26  0.386          Josh Bell     255\n",
      "198  2019          25  0.397         Joey Gallo     250\n",
      "200  2019          27  0.396        Jorge Soler     235\n",
      "28.357142857142858\n"
     ]
    }
   ],
   "source": [
    "meanWeight = finalData['weight'].mean()\n",
    "sdWeight = stat.stdev(finalData['weight'])\n",
    "z_score = (finalData['weight'] - meanWeight)/(sdWeight)\n",
    "print(\"Testing for players with weights higher than \" + str(meanWeight+sdWeight))\n",
    "highWeight = z_score > 1 #OVer 1 std\n",
    "highWeightSample = finalData.loc[highWeight]\n",
    "print(highWeightSample)\n",
    "meanPrimeHighWeight = highWeightSample['player_age'].mean()\n",
    "print(meanPrimeHighWeight)"
   ]
  },
  {
   "cell_type": "code",
   "execution_count": 199,
   "id": "84294303-e81d-4d15-a700-f48a37f57164",
   "metadata": {},
   "outputs": [
    {
     "name": "stdout",
     "output_type": "stream",
     "text": [
      "214\n",
      "28.345794392523363\n",
      "3.2240417071880727\n"
     ]
    }
   ],
   "source": [
    "ageSplit = primeYears.groupby(['player_age']).size()\n",
    "# print(ageSplit)\n",
    "print(sum(ageSplit)) #Total samples\n",
    "meanPrime = primeYears['player_age'].mean() #Average age of prime season\n",
    "sdPrime = stat.pstdev(primeYears['player_age']) #Standard deviation of average age\n",
    "print(meanPrime)\n",
    "print(sdPrime)"
   ]
  },
  {
   "cell_type": "code",
   "execution_count": 299,
   "id": "4df9265e-f005-4248-b535-3e61799487ed",
   "metadata": {},
   "outputs": [
    {
     "name": "stdout",
     "output_type": "stream",
     "text": [
      "0.01862582303365157\n"
     ]
    }
   ],
   "source": [
    "# Conclusion\n",
    "z_star = (meanPrimeHighWeight - meanPrime)/(sdPrime/(m.sqrt(len(highWeightSample))))\n",
    "print(z_star)\n",
    "# The sample and the population have a mean that is within almost 1/100th of a decimal.\n",
    "# The difference z score for the comparison to the population is\n",
    "# Due to this I am deeming a p test unnessary as the two clearly have no correlation\n",
    "# This gives us insight that weight should not be taken into consideration for how\n",
    "# late in the career a player may have their prime season\n",
    "# Possible sources of error: Should have used full, completed careers. Decided against it since performance statistics were better after 2015. Probably shouldn't have"
   ]
  },
  {
   "cell_type": "markdown",
   "id": "62fafed4-0e06-4b59-bca7-782630764bdc",
   "metadata": {},
   "source": [
    "# Project 2: Pitch Usage vs. Strikeout Rate"
   ]
  },
  {
   "cell_type": "raw",
   "id": "9ba407c6-8d15-4d05-a172-182dc6c47c07",
   "metadata": {},
   "source": [
    "# Question: What effect does having multiple pitches have on a pitcher's performance?\n",
    "# Hypothesis: Pitchers that have at least 4 pitches that they throw 15% of the time or more strikeout more batters.\n",
    "\n",
    "pitchUsage = pd.DataFrame(pd.read_csv(\"C:/Users/tmeli/OneDrive/Documents/CLASSES/Fall 2022/STAT488/pitchUsageData.csv\"))\n",
    "pitchUsage = pitchUsage.drop(\"n_kn_formatted\", axis = 1)\n",
    "pitchUsage = pitchUsage.rename(columns={'p_formatted_ip': 'innings_pitched', \"n_ff_formatted\": \"ff_rate\", \"n_sl_formatted\": \"sl_rate\", \"n_ch_formatted\": \"ch_rate\",\n",
    "                                       \"n_cukc_formatted\": \"curve_rate\",\"n_sift_formatted\": \"si_rate\", \"n_fc_formatted\": \"cut_rate\", \"n_fs_formatted\": \"split_rate\"})\n",
    "minIP = pitchUsage[\"innings_pitched\"] > 100\n",
    "pitchUsage = pitchUsage.loc[minIP]\n",
    "significantUsageRate = 15\n",
    "msk = pitchUsage.fillna(0).loc[:,\"ff_rate\":\"split_rate\"] > significantUsageRate\n",
    "pitchUsage[\"unique_pitches\"] = msk.select_dtypes(include=['bool']).sum(axis=1)\n",
    "\n",
    "meanKpercent = pitchUsage[\"p_k_percent\"].mean()\n",
    "sdKpercent = stat.pstdev(pitchUsage[\"p_k_percent\"])\n",
    "\n",
    "pitchUsage.info()\n",
    "pitchUsage.sample(10)\n",
    "print(pitchUsage[\"woba\"].mean())\n",
    "print(meanKpercent)\n",
    "print(sdKpercent)"
   ]
  },
  {
   "cell_type": "code",
   "execution_count": 300,
   "id": "85177647-c3bb-46cf-aa88-0c248be7cb22",
   "metadata": {},
   "outputs": [
    {
     "name": "stdout",
     "output_type": "stream",
     "text": [
      "21.28831168831168\n",
      "3.323401871576773\n",
      "-2.2420351989654077\n",
      "95% CI: 20.545987573851498, 22.03063580277186\n",
      "0.3085064935064937\n",
      "<class 'pandas.core.frame.DataFrame'>\n",
      "Int64Index: 77 entries, 10 to 1108\n",
      "Data columns (total 17 columns):\n",
      " #   Column              Non-Null Count  Dtype  \n",
      "---  ------              --------------  -----  \n",
      " 0   last_name           77 non-null     object \n",
      " 1    first_name         77 non-null     object \n",
      " 2   player_id           77 non-null     int64  \n",
      " 3   year                77 non-null     int64  \n",
      " 4   innings_pitched     77 non-null     float64\n",
      " 5   p_k_percent         77 non-null     float64\n",
      " 6   p_bb_percent        77 non-null     float64\n",
      " 7   woba                77 non-null     float64\n",
      " 8   barrel_batted_rate  77 non-null     float64\n",
      " 9   ff_rate             77 non-null     float64\n",
      " 10  sl_rate             52 non-null     float64\n",
      " 11  ch_rate             74 non-null     float64\n",
      " 12  curve_rate          71 non-null     float64\n",
      " 13  si_rate             67 non-null     float64\n",
      " 14  cut_rate            34 non-null     float64\n",
      " 15  split_rate          3 non-null      float64\n",
      " 16  unique_pitches      77 non-null     int64  \n",
      "dtypes: float64(12), int64(3), object(2)\n",
      "memory usage: 10.8+ KB\n",
      "-0.2555036237168969\n"
     ]
    }
   ],
   "source": [
    "min4pitches = pitchUsage[\"unique_pitches\"] >= 4\n",
    "min4pitches = pitchUsage.loc[min4pitches]\n",
    "meanSample = min4pitches[\"p_k_percent\"].mean()\n",
    "sdSample = stat.stdev(min3pitches['p_k_percent'])\n",
    "z_star = (meanSample - meanKpercent)/(sdKpercent/m.sqrt(len(min4pitches)))\n",
    "print(meanSample)\n",
    "print(sdSample)\n",
    "print(z_star)\n",
    "print(\"95% CI: \" + str(meanSample - 1.96* sdSample/m.sqrt(len(min4pitches))) + \", \" + str(meanSample + 1.96* sdSample/m.sqrt(len(min4pitches))))\n",
    "print(min4pitches[\"woba\"].mean())\n",
    "\n",
    "min4pitches.info()\n",
    "min4pitches.sample(10)\n",
    "\n",
    "effectSize = (meanSample-meanKpercent)/sdKpercent\n",
    "print(effectSize)"
   ]
  },
  {
   "cell_type": "markdown",
   "id": "7e1fd0fd-ae2d-4f1c-8b9b-114c00360ac2",
   "metadata": {},
   "source": [
    "p value of about 0.014\n",
    "Conclusion: When a pitcher throws a larger amount of pitches at a high rate, they tend to strikeout less batters.\n",
    "Inference: Pitchers who mix more pitches into their arsenal tend to be the type of pitchers who try to \"fool\" batters.\n",
    "This results in a subset of pitchers who are more pitch to contact instead of trying to strike people out."
   ]
  },
  {
   "cell_type": "code",
   "execution_count": 6,
   "id": "af6bea1a-4247-4efb-8f35-9a1a2725a822",
   "metadata": {
    "tags": []
   },
   "outputs": [],
   "source": [
    "# Future Inqueries:\n",
    "\n",
    "# Can we gather an understanding of what assessing play-by-play data is like through retrosheet.com data?\n",
    "# To find out we will be attempting to assess possitional shift data."
   ]
  },
  {
   "cell_type": "code",
   "execution_count": null,
   "id": "760c4e6c-311c-4ee9-bbe1-675a4bac596d",
   "metadata": {},
   "outputs": [],
   "source": []
  }
 ],
 "metadata": {
  "kernelspec": {
   "display_name": "Python 3 (ipykernel)",
   "language": "python",
   "name": "python3"
  },
  "language_info": {
   "codemirror_mode": {
    "name": "ipython",
    "version": 3
   },
   "file_extension": ".py",
   "mimetype": "text/x-python",
   "name": "python",
   "nbconvert_exporter": "python",
   "pygments_lexer": "ipython3",
   "version": "3.9.7"
  }
 },
 "nbformat": 4,
 "nbformat_minor": 5
}
