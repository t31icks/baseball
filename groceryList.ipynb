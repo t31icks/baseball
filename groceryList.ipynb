{
 "cells": [
  {
   "cell_type": "code",
   "execution_count": 4,
   "id": "6f3264fe-a7a8-4f55-b70f-c06b333bc453",
   "metadata": {},
   "outputs": [],
   "source": [
    "#Import libraries\n",
    "import pandas as pd\n",
    "import numpy as np"
   ]
  },
  {
   "cell_type": "code",
   "execution_count": null,
   "id": "232064fd-0b76-402d-a951-16b122df4e30",
   "metadata": {},
   "outputs": [],
   "source": []
  },
  {
   "cell_type": "code",
   "execution_count": null,
   "id": "9512ffca-61a5-4b60-b043-904fdfc8b34e",
   "metadata": {},
   "outputs": [],
   "source": []
  },
  {
   "cell_type": "code",
   "execution_count": 5,
   "id": "6be84f56-2325-4b9d-8911-5f86b8aa11b5",
   "metadata": {},
   "outputs": [],
   "source": [
    "#Function that checks and validates type\n",
    "def validateType(Type, answer):\n",
    "    while type(answer) != Type:\n",
    "        try:\n",
    "            if Type == float:\n",
    "                answer = float(answer)\n",
    "            elif Type == int:\n",
    "                answer = int(answer)\n",
    "            else:\n",
    "                answer = input(\"Please enter a valid response\")\n",
    "        except ValueError:\n",
    "            answer = input(\"Please enter the correct type\")\n",
    "    return answer"
   ]
  },
  {
   "cell_type": "code",
   "execution_count": 6,
   "id": "b7a47afa-54c2-4a7c-8e74-02c6bd903b09",
   "metadata": {},
   "outputs": [],
   "source": [
    "#Function that calls a yes or no prompt into a bool\n",
    "def checkResponse(answer):\n",
    "    validAnswer = False\n",
    "    while validAnswer == False:\n",
    "        if answer == \"y\" or answer == \"yes\":\n",
    "            response = True\n",
    "            validAnswer = True\n",
    "        elif answer == \"n\" or answer == \"no\":\n",
    "            response = False\n",
    "            validAnswer = True\n",
    "        else:\n",
    "            answer = input(\"Please answer yes or no\")\n",
    "    \n",
    "    return response"
   ]
  },
  {
   "cell_type": "code",
   "execution_count": 7,
   "id": "f273faf1-aa7b-4561-ad79-24f2641c0c49",
   "metadata": {},
   "outputs": [
    {
     "name": "stdout",
     "output_type": "stream",
     "text": [
      "What will you be doing today?\n"
     ]
    },
    {
     "name": "stdin",
     "output_type": "stream",
     "text": [
      "Would you like to check the database? yes\n"
     ]
    },
    {
     "name": "stdout",
     "output_type": "stream",
     "text": [
      "                      Unnamed: 0  Cost Amount\n",
      "Item                                         \n",
      "sharp cheddar cheese           0  3.98  16 oz\n"
     ]
    },
    {
     "name": "stdin",
     "output_type": "stream",
     "text": [
      "What is the new item? bread\n",
      "Do you have a cost? y\n",
      "How much does the item cost 1.00\n",
      "Do you know how much comes with the purchase? loaf\n",
      "Please answer yes or no y\n",
      "How much comes with the purchase? loaf\n",
      "Do you know what aisle its in?(Walmart) A11\n",
      "Please answer yes or no y\n",
      "What aisle is it in? A11\n",
      "Do you know what brand? n\n",
      "Are you adding another new item to the database? n\n"
     ]
    },
    {
     "name": "stdout",
     "output_type": "stream",
     "text": [
      "                      Unnamed: 0  Cost Amount Aisle  Brand\n",
      "Item                                                      \n",
      "sharp cheddar cheese         0.0  3.98  16 oz   NaN    NaN\n",
      "bread                        NaN  1.00   loaf   A11    NaN\n",
      "Items saved\n"
     ]
    }
   ],
   "source": [
    "#Groceries Database\n",
    "\n",
    "#Define lists in dataframe\n",
    "item = []\n",
    "cost = []\n",
    "amount = []\n",
    "aisle = []\n",
    "brand = []\n",
    "moreItems = True\n",
    "\n",
    "#Load in existing database file\n",
    "oldEntries = pd.DataFrame(pd.read_csv(\"C:/Users/tmeli/OneDrive/Documents/Personal Life/groceryDatabase\"))\n",
    "oldEntries = oldEntries.set_index(\"Item\")\n",
    "\n",
    "#Creating a menu of some kind\n",
    "print(\"What will you be doing today?\")\n",
    "if checkResponse(input(\"Would you like to check the database?\")) == True:\n",
    "    print(oldEntries)\n",
    "\n",
    "while moreItems == True:    \n",
    "    #Ask item\n",
    "    item.append(input(\"What is the new item?\"))\n",
    "\n",
    "    #Ask cost\n",
    "    haveCost = input(\"Do you have a cost?\")\n",
    "    if checkResponse(haveCost) == True:\n",
    "        cost.append(validateType(float,input(\"How much does the item cost\")))\n",
    "    elif checkResponse(haveCost) == False:\n",
    "        cost.append(np.nan)\n",
    "\n",
    "    #Ask amount\n",
    "    haveAmount = input(\"Do you know how much comes with the purchase?\")\n",
    "    if checkResponse(haveAmount) == True:\n",
    "        amount.append(input(\"How much comes with the purchase?\"))\n",
    "    elif checkResponse(haveAmount) == False:\n",
    "        amount.append(np.nan)\n",
    "    \n",
    "    #Add Aisle\n",
    "    haveAisle = input(\"Do you know what aisle its in?(Walmart)\")\n",
    "    if checkResponse(haveAisle) == True:\n",
    "        aisle.append(input(\"What aisle is it in?\"))\n",
    "    elif checkResponse(haveAisle) == False:\n",
    "        aisle.append(np.nan)\n",
    "\n",
    "    #Add brand\n",
    "    haveBrand = input(\"Do you know what brand?\")\n",
    "    if checkResponse(haveBrand) == True:\n",
    "        brand.append(input(\"What is the brand\"))\n",
    "    elif checkResponse(haveBrand) == False:\n",
    "        brand.append(np.nan)\n",
    "    \n",
    "    #Check for another item\n",
    "    anotherItem = input(\"Are you adding another new item to the database?\")\n",
    "    if checkResponse(anotherItem) == False:\n",
    "        moreItems = False\n",
    "        \n",
    "        \n",
    "newEntries = pd.DataFrame(\n",
    "    {\n",
    "    \"Item\": item,\n",
    "    \"Cost\": cost,\n",
    "    \"Amount\": amount,\n",
    "    \"Aisle\": aisle,\n",
    "    \"Brand\": brand\n",
    "    }\n",
    ")\n",
    "newEntries = newEntries.set_index(\"Item\")\n",
    "\n",
    "#If recreating database comment out line below\n",
    "groceryDatabase = pd.concat([oldEntries, newEntries])\n",
    "print(groceryDatabase)\n",
    "\n",
    "#Saves database to csv file\n",
    "groceryDatabase.to_csv(\"C:/Users/tmeli/OneDrive/Documents/Personal Life/grocery project/groceryDatabase\")\n",
    "print(\"Items saved\")"
   ]
  },
  {
   "cell_type": "code",
   "execution_count": 8,
   "id": "0384a6a4-3877-4314-a455-758f851ee26f",
   "metadata": {},
   "outputs": [
    {
     "name": "stdout",
     "output_type": "stream",
     "text": [
      "<class 'pandas.core.frame.DataFrame'>\n",
      "Index: 2 entries, sharp cheddar cheese to bread\n",
      "Data columns (total 5 columns):\n",
      " #   Column      Non-Null Count  Dtype  \n",
      "---  ------      --------------  -----  \n",
      " 0   Unnamed: 0  1 non-null      float64\n",
      " 1   Cost        2 non-null      float64\n",
      " 2   Amount      2 non-null      object \n",
      " 3   Aisle       1 non-null      object \n",
      " 4   Brand       0 non-null      float64\n",
      "dtypes: float64(3), object(2)\n",
      "memory usage: 96.0+ bytes\n"
     ]
    }
   ],
   "source": [
    "groceryDatabase.info()"
   ]
  },
  {
   "cell_type": "code",
   "execution_count": 23,
   "id": "537c57ba-4cf3-40ee-bfd6-f256c4681068",
   "metadata": {},
   "outputs": [
    {
     "name": "stdin",
     "output_type": "stream",
     "text": [
      "What do you want to buy today? rye bread\n",
      "Are you picking out another item? no\n",
      "Would you like to save this grocery list? y\n",
      "What would you like to name this grocery list? firstList\n"
     ]
    },
    {
     "ename": "NameError",
     "evalue": "name 'groceryList' is not defined",
     "output_type": "error",
     "traceback": [
      "\u001b[1;31m---------------------------------------------------------------------------\u001b[0m",
      "\u001b[1;31mNameError\u001b[0m                                 Traceback (most recent call last)",
      "\u001b[1;32m~\\AppData\\Local\\Temp/ipykernel_13228/2245209696.py\u001b[0m in \u001b[0;36m<module>\u001b[1;34m\u001b[0m\n\u001b[0;32m     20\u001b[0m \u001b[1;32mif\u001b[0m \u001b[0mcheckResponse\u001b[0m\u001b[1;33m(\u001b[0m\u001b[0minput\u001b[0m\u001b[1;33m(\u001b[0m\u001b[1;34m\"Would you like to save this grocery list?\"\u001b[0m\u001b[1;33m)\u001b[0m\u001b[1;33m)\u001b[0m \u001b[1;33m==\u001b[0m \u001b[1;32mTrue\u001b[0m\u001b[1;33m:\u001b[0m\u001b[1;33m\u001b[0m\u001b[1;33m\u001b[0m\u001b[0m\n\u001b[0;32m     21\u001b[0m     \u001b[0mname\u001b[0m \u001b[1;33m=\u001b[0m \u001b[0minput\u001b[0m\u001b[1;33m(\u001b[0m\u001b[1;34m\"What would you like to name this grocery list?\"\u001b[0m\u001b[1;33m)\u001b[0m\u001b[1;33m\u001b[0m\u001b[1;33m\u001b[0m\u001b[0m\n\u001b[1;32m---> 22\u001b[1;33m     \u001b[0mgroceryList\u001b[0m\u001b[1;33m.\u001b[0m\u001b[0mto_csv\u001b[0m\u001b[1;33m(\u001b[0m\u001b[0mjoin\u001b[0m\u001b[1;33m(\u001b[0m\u001b[1;34m\"C:/Users/tmeli/OneDrive/Documents/Personal Life/groceryList_\"\u001b[0m\u001b[1;33m,\u001b[0m\u001b[0mname\u001b[0m\u001b[1;33m,\u001b[0m\u001b[1;34m\".csv\"\u001b[0m\u001b[1;33m)\u001b[0m\u001b[1;33m)\u001b[0m\u001b[1;33m\u001b[0m\u001b[1;33m\u001b[0m\u001b[0m\n\u001b[0m\u001b[0;32m     23\u001b[0m \u001b[0mprint\u001b[0m\u001b[1;33m(\u001b[0m\u001b[0mgroceryList\u001b[0m\u001b[1;33m)\u001b[0m\u001b[1;33m\u001b[0m\u001b[1;33m\u001b[0m\u001b[0m\n",
      "\u001b[1;31mNameError\u001b[0m: name 'groceryList' is not defined"
     ]
    }
   ],
   "source": [
    "#Make a grocery list\n",
    "\n",
    "groceryDatabase = pd.DataFrame(pd.read_csv(\"C:/Users/tmeli/OneDrive/Documents/Personal Life/groceryDatabase\"), index_col = \"Item\")\n",
    "print(groceryDatabase)\n",
    "pd.DataFrame(cols = \"Item\", \"Cost\", \"Amount\", \"Aisle\", \"Brand\")\n",
    "\n",
    "stillShopping = True \n",
    "while stillShopping == True:\n",
    "    \n",
    "    #Ask item\n",
    "    newItem = input(\"What do you want to buy today?\")\n",
    "    for checkItem in range(len(groceryDatabase)):\n",
    "        if groceryDatabase.iloc[checkItem,0] == newItem:\n",
    "            addToCart = checkResponse(input(\"Item found! Would you like to add\", newItem, \" to your cart?\"))\n",
    "            if addToCart == True:\n",
    "                #Need to find way to append datarame\n",
    "                \n",
    " \n",
    "    #Check for another item\n",
    "    anotherItem = input(\"Are you picking out another item?\")\n",
    "    if checkResponse(anotherItem) == False:\n",
    "        stillShopping = False\n",
    "        \n",
    "\n",
    "if checkResponse(input(\"Would you like to save this grocery list?\")) == True:\n",
    "    name = input(\"What would you like to name this grocery list?\")\n",
    "    groceryList.to_csv(join(\"C:/Users/tmeli/OneDrive/Documents/Personal Life/groceryList_\",name,\".csv\"))\n",
    "print(groceryList)"
   ]
  },
  {
   "cell_type": "code",
   "execution_count": 1,
   "id": "34c14821-aa6b-449c-b504-139c37985793",
   "metadata": {},
   "outputs": [
    {
     "ename": "NameError",
     "evalue": "name 'groceryDatabase' is not defined",
     "output_type": "error",
     "traceback": [
      "\u001b[1;31m---------------------------------------------------------------------------\u001b[0m",
      "\u001b[1;31mNameError\u001b[0m                                 Traceback (most recent call last)",
      "\u001b[1;32m~\\AppData\\Local\\Temp/ipykernel_16432/2147606641.py\u001b[0m in \u001b[0;36m<module>\u001b[1;34m\u001b[0m\n\u001b[1;32m----> 1\u001b[1;33m \u001b[0mgroceryDatabase\u001b[0m\u001b[1;33m.\u001b[0m\u001b[0miloc\u001b[0m\u001b[1;33m(\u001b[0m\u001b[1;36m2\u001b[0m\u001b[1;33m)\u001b[0m\u001b[1;33m\u001b[0m\u001b[1;33m\u001b[0m\u001b[0m\n\u001b[0m",
      "\u001b[1;31mNameError\u001b[0m: name 'groceryDatabase' is not defined"
     ]
    }
   ],
   "source": [
    "groceryDatabase.iloc(2)"
   ]
  },
  {
   "cell_type": "code",
   "execution_count": null,
   "id": "ebbe7e13-dd6b-463e-b572-1479a079cb68",
   "metadata": {},
   "outputs": [],
   "source": [
    "def makeRecipe(): \n",
    "    "
   ]
  }
 ],
 "metadata": {
  "kernelspec": {
   "display_name": "Python 3 (ipykernel)",
   "language": "python",
   "name": "python3"
  },
  "language_info": {
   "codemirror_mode": {
    "name": "ipython",
    "version": 3
   },
   "file_extension": ".py",
   "mimetype": "text/x-python",
   "name": "python",
   "nbconvert_exporter": "python",
   "pygments_lexer": "ipython3",
   "version": "3.9.7"
  }
 },
 "nbformat": 4,
 "nbformat_minor": 5
}
